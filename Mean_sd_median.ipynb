{
 "cells": [
  {
   "cell_type": "markdown",
   "metadata": {},
   "source": [
    "# Running Mean, Standard Deviation, Median"
   ]
  },
  {
   "cell_type": "markdown",
   "metadata": {},
   "source": [
    "## Method1"
   ]
  },
  {
   "cell_type": "code",
   "execution_count": null,
   "metadata": {},
   "outputs": [],
   "source": [
    "def fun(num):\n",
    "    n = len(num)\n",
    "    mean = sum(num)/n\n",
    "    var = sum((item - mean)**2 for item in num) / (n)\n",
    "    st_dev = var**0.5\n",
    "    if n % 2:\n",
    "         median = sorted(num)[round(0.5*(n-1))]\n",
    "    else:\n",
    "        x_ord, index = sorted(num), round(0.5 * n)\n",
    "        median = 0.5 * (x_ord[index-1] + x_ord[index])\n",
    "    return round(mean,3), round(st_dev,3), round(median,3)\n",
    "\n",
    "n = int(input(\"Enter of number of input \"))\n",
    "num = []\n",
    "for i in range(int(n)):\n",
    "    x = int(input())\n",
    "    num.append(x)\n",
    "    print(fun(num))\n",
    "    "
   ]
  },
  {
   "cell_type": "markdown",
   "metadata": {},
   "source": [
    "## Method 2"
   ]
  },
  {
   "cell_type": "code",
   "execution_count": 4,
   "metadata": {},
   "outputs": [
    {
     "name": "stdout",
     "output_type": "stream",
     "text": [
      "Enter number: 1\n",
      "1.0,0.0,1.0\n",
      "Want to continue? [Y/N]y\n",
      "Enter number: 2\n",
      "1.5,0.5,1.5\n",
      "Want to continue? [Y/N]y\n",
      "Enter number: 2\n",
      "1.667,0.471,2.0\n",
      "Want to continue? [Y/N]n\n"
     ]
    }
   ],
   "source": [
    "\n",
    "def fun(num):\n",
    "    count = 0\n",
    "    n = len(num)\n",
    "    mean = sum(num)/n\n",
    "    var = sum((item - mean)**2 for item in num) / (n)\n",
    "    st_dev = var**0.5\n",
    "    if n % 2:\n",
    "         median = sorted(num)[round(0.5*(n-1))]\n",
    "    else:\n",
    "        x_ord, index = sorted(num), round(0.5 * n)\n",
    "        median = 0.5 * (x_ord[index-1] + x_ord[index])\n",
    "    return round(mean,3), round(st_dev,3), round(median,3)\n",
    "        \n",
    "numb_list = []\n",
    "while True:\n",
    "    number = input(\"Enter number: \")\n",
    "    numb_list.append(float(number))\n",
    "    running_mean, running_sd, running_median = stat_calc(numb_list)\n",
    "    print(\"{},{},{}\".format(running_mean, running_sd, running_median))\n",
    "    contd = input(\"Want to continue? [Y/N]\")\n",
    "    if contd == 'Y' or contd == 'y':\n",
    "        #count = count+1\n",
    "        continue\n",
    "    elif contd == 'N' or contd == 'n':\n",
    "        break\n",
    "    else:\n",
    "        print(\"Invalid selection\")\n",
    "        break"
   ]
  },
  {
   "cell_type": "code",
   "execution_count": null,
   "metadata": {},
   "outputs": [],
   "source": []
  }
 ],
 "metadata": {
  "kernelspec": {
   "display_name": "Python 3",
   "language": "python",
   "name": "python3"
  },
  "language_info": {
   "codemirror_mode": {
    "name": "ipython",
    "version": 3
   },
   "file_extension": ".py",
   "mimetype": "text/x-python",
   "name": "python",
   "nbconvert_exporter": "python",
   "pygments_lexer": "ipython3",
   "version": "3.8.2"
  }
 },
 "nbformat": 4,
 "nbformat_minor": 4
}
